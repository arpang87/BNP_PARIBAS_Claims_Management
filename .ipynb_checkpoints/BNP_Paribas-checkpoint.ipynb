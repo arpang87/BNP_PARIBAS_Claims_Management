{
 "cells": [
  {
   "cell_type": "code",
   "execution_count": null,
   "metadata": {
    "colab": {},
    "colab_type": "code",
    "id": "LQr1zNQvcPX3"
   },
   "outputs": [],
   "source": []
  },
  {
   "cell_type": "markdown",
   "metadata": {
    "colab_type": "text",
    "id": "ZUD9NXk7cTan"
   },
   "source": [
    "# Importing Libraries "
   ]
  },
  {
   "cell_type": "code",
   "execution_count": null,
   "metadata": {
    "colab": {},
    "colab_type": "code",
    "id": "FoNHRH7iXxFf"
   },
   "outputs": [],
   "source": [
    "import numpy as np \n",
    "import pandas as pd \n",
    "\n",
    "from sklearn.metrics import make_scorer,mean_squared_error\n",
    "from sklearn.model_selection import train_test_split,cross_validate\n",
    "from sklearn import preprocessing\n",
    "\n",
    "\n",
    "import xgboost as xgb \n",
    "\n",
    "import scipy.stats as stats\n",
    "import gc\n",
    "\n",
    "\n",
    "from subprocess import check_output\n",
    "\n",
    "\n",
    "\n",
    "\n",
    "#Used for data analysis and manipulation\n",
    "import numpy as np\n",
    "import pandas as pd\n",
    "\n",
    "#Used for data visualization\n",
    "import matplotlib.pyplot as plt\n",
    "import seaborn as sns\n",
    "%matplotlib inline\n",
    "\n",
    "#Used for preprocessing the data or scaling the data \n",
    "from sklearn import preprocessing \n",
    "from sklearn.preprocessing import RobustScaler,MinMaxScaler\n",
    "\n",
    "\n",
    "#Used for splitting the data for cross-validation and validation\n",
    "from sklearn import model_selection\n",
    "from sklearn.model_selection import train_test_split,StratifiedKFold,KFold,StratifiedShuffleSplit\n",
    "\n",
    "#For GridSearch CV\n",
    "from sklearn.model_selection import GridSearchCV\n",
    "\n",
    "#Used for different regression and classifier models\n",
    "from sklearn.linear_model import LogisticRegression\n",
    "from sklearn.tree import DecisionTreeClassifier\n",
    "from sklearn.naive_bayes import GaussianNB\n",
    "from sklearn import svm\n",
    "from sklearn.ensemble import RandomForestClassifier,BaggingClassifier,ExtraTreesClassifier,GradientBoostingClassifier\n",
    "#from catboost import CatBoostRegressor,CatBoostClassifier\n",
    "import xgboost as xgb\n",
    "import lightgbm as lgb\n",
    "\n",
    "#Used for model performance calculation\n",
    "from sklearn.metrics import confusion_matrix, roc_auc_score ,roc_curve,auc\n",
    "\n",
    "#Used for garbage collecting\n",
    "import gc\n",
    "\n",
    "#For ignoring unneccessary warnings\n",
    "import warnings\n",
    "warnings.filterwarnings('ignore')\n",
    "\n",
    "#For files and folders related operations \n",
    "#import os \n"
   ]
  },
  {
   "cell_type": "code",
   "execution_count": null,
   "metadata": {
    "colab": {
     "base_uri": "https://localhost:8080/",
     "height": 34
    },
    "colab_type": "code",
    "id": "YytVUlb6b5TI",
    "outputId": "21338bd5-f529-4702-9a6a-f5665f4b0d43"
   },
   "outputs": [
    {
     "name": "stdout",
     "output_type": "stream",
     "text": [
      "/content\n"
     ]
    }
   ],
   "source": [
    "!pwd"
   ]
  },
  {
   "cell_type": "code",
   "execution_count": null,
   "metadata": {
    "colab": {},
    "colab_type": "code",
    "id": "KzjJCbiLca7d"
   },
   "outputs": [],
   "source": []
  },
  {
   "cell_type": "markdown",
   "metadata": {
    "colab_type": "text",
    "id": "cNsBq7DQcb1I"
   },
   "source": [
    "# Reading the data set "
   ]
  },
  {
   "cell_type": "code",
   "execution_count": null,
   "metadata": {
    "colab": {},
    "colab_type": "code",
    "id": "uPzN4pZGceIW"
   },
   "outputs": [],
   "source": [
    "traindf=pd.read_csv(\"train.csv\")\n",
    "testdf=pd.read_csv(\"test.csv\")"
   ]
  },
  {
   "cell_type": "code",
   "execution_count": null,
   "metadata": {
    "colab": {
     "base_uri": "https://localhost:8080/",
     "height": 304
    },
    "colab_type": "code",
    "id": "X5jgMLSNcpPt",
    "outputId": "52b61325-e048-4ef1-94b4-c932b0d3c298"
   },
   "outputs": [
    {
     "data": {
      "text/html": [
       "<div>\n",
       "<style scoped>\n",
       "    .dataframe tbody tr th:only-of-type {\n",
       "        vertical-align: middle;\n",
       "    }\n",
       "\n",
       "    .dataframe tbody tr th {\n",
       "        vertical-align: top;\n",
       "    }\n",
       "\n",
       "    .dataframe thead th {\n",
       "        text-align: right;\n",
       "    }\n",
       "</style>\n",
       "<table border=\"1\" class=\"dataframe\">\n",
       "  <thead>\n",
       "    <tr style=\"text-align: right;\">\n",
       "      <th></th>\n",
       "      <th>ID</th>\n",
       "      <th>target</th>\n",
       "      <th>v1</th>\n",
       "      <th>v2</th>\n",
       "      <th>v3</th>\n",
       "      <th>v4</th>\n",
       "      <th>v5</th>\n",
       "      <th>v6</th>\n",
       "      <th>v7</th>\n",
       "      <th>v8</th>\n",
       "      <th>v9</th>\n",
       "      <th>v10</th>\n",
       "      <th>v11</th>\n",
       "      <th>v12</th>\n",
       "      <th>v13</th>\n",
       "      <th>v14</th>\n",
       "      <th>v15</th>\n",
       "      <th>v16</th>\n",
       "      <th>v17</th>\n",
       "      <th>v18</th>\n",
       "      <th>v19</th>\n",
       "      <th>v20</th>\n",
       "      <th>v21</th>\n",
       "      <th>v22</th>\n",
       "      <th>v23</th>\n",
       "      <th>v24</th>\n",
       "      <th>v25</th>\n",
       "      <th>v26</th>\n",
       "      <th>v27</th>\n",
       "      <th>v28</th>\n",
       "      <th>v29</th>\n",
       "      <th>v30</th>\n",
       "      <th>v31</th>\n",
       "      <th>v32</th>\n",
       "      <th>v33</th>\n",
       "      <th>v34</th>\n",
       "      <th>v35</th>\n",
       "      <th>v36</th>\n",
       "      <th>v37</th>\n",
       "      <th>v38</th>\n",
       "      <th>...</th>\n",
       "      <th>v92</th>\n",
       "      <th>v93</th>\n",
       "      <th>v94</th>\n",
       "      <th>v95</th>\n",
       "      <th>v96</th>\n",
       "      <th>v97</th>\n",
       "      <th>v98</th>\n",
       "      <th>v99</th>\n",
       "      <th>v100</th>\n",
       "      <th>v101</th>\n",
       "      <th>v102</th>\n",
       "      <th>v103</th>\n",
       "      <th>v104</th>\n",
       "      <th>v105</th>\n",
       "      <th>v106</th>\n",
       "      <th>v107</th>\n",
       "      <th>v108</th>\n",
       "      <th>v109</th>\n",
       "      <th>v110</th>\n",
       "      <th>v111</th>\n",
       "      <th>v112</th>\n",
       "      <th>v113</th>\n",
       "      <th>v114</th>\n",
       "      <th>v115</th>\n",
       "      <th>v116</th>\n",
       "      <th>v117</th>\n",
       "      <th>v118</th>\n",
       "      <th>v119</th>\n",
       "      <th>v120</th>\n",
       "      <th>v121</th>\n",
       "      <th>v122</th>\n",
       "      <th>v123</th>\n",
       "      <th>v124</th>\n",
       "      <th>v125</th>\n",
       "      <th>v126</th>\n",
       "      <th>v127</th>\n",
       "      <th>v128</th>\n",
       "      <th>v129</th>\n",
       "      <th>v130</th>\n",
       "      <th>v131</th>\n",
       "    </tr>\n",
       "  </thead>\n",
       "  <tbody>\n",
       "    <tr>\n",
       "      <th>0</th>\n",
       "      <td>3</td>\n",
       "      <td>1</td>\n",
       "      <td>1.335739</td>\n",
       "      <td>8.727474</td>\n",
       "      <td>C</td>\n",
       "      <td>3.921026</td>\n",
       "      <td>7.915266</td>\n",
       "      <td>2.599278</td>\n",
       "      <td>3.176895</td>\n",
       "      <td>0.012941</td>\n",
       "      <td>9.999999</td>\n",
       "      <td>0.503281</td>\n",
       "      <td>16.434108</td>\n",
       "      <td>6.085711</td>\n",
       "      <td>2.866830</td>\n",
       "      <td>11.636387</td>\n",
       "      <td>1.355013</td>\n",
       "      <td>8.571429</td>\n",
       "      <td>3.670350</td>\n",
       "      <td>0.106720</td>\n",
       "      <td>0.148883</td>\n",
       "      <td>18.869283</td>\n",
       "      <td>7.730923</td>\n",
       "      <td>XDX</td>\n",
       "      <td>-1.716131e-08</td>\n",
       "      <td>C</td>\n",
       "      <td>0.139412</td>\n",
       "      <td>1.720818</td>\n",
       "      <td>3.393503</td>\n",
       "      <td>0.590122</td>\n",
       "      <td>8.880867</td>\n",
       "      <td>C</td>\n",
       "      <td>A</td>\n",
       "      <td>1.083033</td>\n",
       "      <td>1.010829</td>\n",
       "      <td>7.270147</td>\n",
       "      <td>8.375452</td>\n",
       "      <td>11.326592</td>\n",
       "      <td>0.454546</td>\n",
       "      <td>0</td>\n",
       "      <td>...</td>\n",
       "      <td>0.442252</td>\n",
       "      <td>5.814018</td>\n",
       "      <td>3.517720</td>\n",
       "      <td>0.462019</td>\n",
       "      <td>7.436824</td>\n",
       "      <td>5.454545</td>\n",
       "      <td>8.877414</td>\n",
       "      <td>1.191337</td>\n",
       "      <td>19.470199</td>\n",
       "      <td>8.389237</td>\n",
       "      <td>2.757375</td>\n",
       "      <td>4.374296</td>\n",
       "      <td>1.574039</td>\n",
       "      <td>0.007294</td>\n",
       "      <td>12.579184</td>\n",
       "      <td>E</td>\n",
       "      <td>2.382692</td>\n",
       "      <td>3.930922</td>\n",
       "      <td>B</td>\n",
       "      <td>0.433213</td>\n",
       "      <td>O</td>\n",
       "      <td>NaN</td>\n",
       "      <td>15.634907</td>\n",
       "      <td>2.857144</td>\n",
       "      <td>1.951220</td>\n",
       "      <td>6.592012</td>\n",
       "      <td>5.909091</td>\n",
       "      <td>-6.297423e-07</td>\n",
       "      <td>1.059603</td>\n",
       "      <td>0.803572</td>\n",
       "      <td>8.000000</td>\n",
       "      <td>1.989780</td>\n",
       "      <td>0.035754</td>\n",
       "      <td>AU</td>\n",
       "      <td>1.804126</td>\n",
       "      <td>3.113719</td>\n",
       "      <td>2.024285</td>\n",
       "      <td>0</td>\n",
       "      <td>0.636365</td>\n",
       "      <td>2.857144</td>\n",
       "    </tr>\n",
       "    <tr>\n",
       "      <th>1</th>\n",
       "      <td>4</td>\n",
       "      <td>1</td>\n",
       "      <td>NaN</td>\n",
       "      <td>NaN</td>\n",
       "      <td>C</td>\n",
       "      <td>NaN</td>\n",
       "      <td>9.191265</td>\n",
       "      <td>NaN</td>\n",
       "      <td>NaN</td>\n",
       "      <td>2.301630</td>\n",
       "      <td>NaN</td>\n",
       "      <td>1.312910</td>\n",
       "      <td>NaN</td>\n",
       "      <td>6.507647</td>\n",
       "      <td>NaN</td>\n",
       "      <td>11.636386</td>\n",
       "      <td>NaN</td>\n",
       "      <td>NaN</td>\n",
       "      <td>NaN</td>\n",
       "      <td>NaN</td>\n",
       "      <td>NaN</td>\n",
       "      <td>NaN</td>\n",
       "      <td>6.763110</td>\n",
       "      <td>GUV</td>\n",
       "      <td>NaN</td>\n",
       "      <td>C</td>\n",
       "      <td>3.056144</td>\n",
       "      <td>NaN</td>\n",
       "      <td>NaN</td>\n",
       "      <td>NaN</td>\n",
       "      <td>NaN</td>\n",
       "      <td>C</td>\n",
       "      <td>A</td>\n",
       "      <td>NaN</td>\n",
       "      <td>NaN</td>\n",
       "      <td>3.615077</td>\n",
       "      <td>NaN</td>\n",
       "      <td>14.579479</td>\n",
       "      <td>NaN</td>\n",
       "      <td>0</td>\n",
       "      <td>...</td>\n",
       "      <td>NaN</td>\n",
       "      <td>NaN</td>\n",
       "      <td>NaN</td>\n",
       "      <td>NaN</td>\n",
       "      <td>NaN</td>\n",
       "      <td>NaN</td>\n",
       "      <td>8.303967</td>\n",
       "      <td>NaN</td>\n",
       "      <td>NaN</td>\n",
       "      <td>NaN</td>\n",
       "      <td>NaN</td>\n",
       "      <td>NaN</td>\n",
       "      <td>NaN</td>\n",
       "      <td>1.505335</td>\n",
       "      <td>NaN</td>\n",
       "      <td>B</td>\n",
       "      <td>1.825361</td>\n",
       "      <td>4.247858</td>\n",
       "      <td>A</td>\n",
       "      <td>NaN</td>\n",
       "      <td>U</td>\n",
       "      <td>G</td>\n",
       "      <td>10.308044</td>\n",
       "      <td>NaN</td>\n",
       "      <td>NaN</td>\n",
       "      <td>10.595357</td>\n",
       "      <td>NaN</td>\n",
       "      <td>NaN</td>\n",
       "      <td>NaN</td>\n",
       "      <td>NaN</td>\n",
       "      <td>NaN</td>\n",
       "      <td>NaN</td>\n",
       "      <td>0.598896</td>\n",
       "      <td>AF</td>\n",
       "      <td>NaN</td>\n",
       "      <td>NaN</td>\n",
       "      <td>1.957825</td>\n",
       "      <td>0</td>\n",
       "      <td>NaN</td>\n",
       "      <td>NaN</td>\n",
       "    </tr>\n",
       "    <tr>\n",
       "      <th>2</th>\n",
       "      <td>5</td>\n",
       "      <td>1</td>\n",
       "      <td>0.943877</td>\n",
       "      <td>5.310079</td>\n",
       "      <td>C</td>\n",
       "      <td>4.410969</td>\n",
       "      <td>5.326159</td>\n",
       "      <td>3.979592</td>\n",
       "      <td>3.928571</td>\n",
       "      <td>0.019645</td>\n",
       "      <td>12.666667</td>\n",
       "      <td>0.765864</td>\n",
       "      <td>14.756098</td>\n",
       "      <td>6.384670</td>\n",
       "      <td>2.505589</td>\n",
       "      <td>9.603542</td>\n",
       "      <td>1.984127</td>\n",
       "      <td>5.882353</td>\n",
       "      <td>3.170847</td>\n",
       "      <td>0.244541</td>\n",
       "      <td>0.144258</td>\n",
       "      <td>17.952332</td>\n",
       "      <td>5.245035</td>\n",
       "      <td>FQ</td>\n",
       "      <td>-2.785053e-07</td>\n",
       "      <td>E</td>\n",
       "      <td>0.113997</td>\n",
       "      <td>2.244897</td>\n",
       "      <td>5.306122</td>\n",
       "      <td>0.836005</td>\n",
       "      <td>7.499999</td>\n",
       "      <td>NaN</td>\n",
       "      <td>A</td>\n",
       "      <td>1.454082</td>\n",
       "      <td>1.734693</td>\n",
       "      <td>4.043864</td>\n",
       "      <td>7.959184</td>\n",
       "      <td>12.730517</td>\n",
       "      <td>0.259740</td>\n",
       "      <td>0</td>\n",
       "      <td>...</td>\n",
       "      <td>0.271480</td>\n",
       "      <td>5.156559</td>\n",
       "      <td>4.214944</td>\n",
       "      <td>0.309657</td>\n",
       "      <td>5.663265</td>\n",
       "      <td>5.974026</td>\n",
       "      <td>11.588858</td>\n",
       "      <td>0.841837</td>\n",
       "      <td>15.491329</td>\n",
       "      <td>5.879353</td>\n",
       "      <td>3.292788</td>\n",
       "      <td>5.924457</td>\n",
       "      <td>1.668401</td>\n",
       "      <td>0.008275</td>\n",
       "      <td>11.670572</td>\n",
       "      <td>C</td>\n",
       "      <td>1.375753</td>\n",
       "      <td>1.184211</td>\n",
       "      <td>B</td>\n",
       "      <td>3.367348</td>\n",
       "      <td>S</td>\n",
       "      <td>NaN</td>\n",
       "      <td>11.205561</td>\n",
       "      <td>12.941177</td>\n",
       "      <td>3.129253</td>\n",
       "      <td>3.478911</td>\n",
       "      <td>6.233767</td>\n",
       "      <td>-2.792745e-07</td>\n",
       "      <td>2.138728</td>\n",
       "      <td>2.238806</td>\n",
       "      <td>9.333333</td>\n",
       "      <td>2.477596</td>\n",
       "      <td>0.013452</td>\n",
       "      <td>AE</td>\n",
       "      <td>1.773709</td>\n",
       "      <td>3.922193</td>\n",
       "      <td>1.120468</td>\n",
       "      <td>2</td>\n",
       "      <td>0.883118</td>\n",
       "      <td>1.176472</td>\n",
       "    </tr>\n",
       "    <tr>\n",
       "      <th>3</th>\n",
       "      <td>6</td>\n",
       "      <td>1</td>\n",
       "      <td>0.797415</td>\n",
       "      <td>8.304757</td>\n",
       "      <td>C</td>\n",
       "      <td>4.225930</td>\n",
       "      <td>11.627438</td>\n",
       "      <td>2.097700</td>\n",
       "      <td>1.987549</td>\n",
       "      <td>0.171947</td>\n",
       "      <td>8.965516</td>\n",
       "      <td>6.542669</td>\n",
       "      <td>16.347483</td>\n",
       "      <td>9.646653</td>\n",
       "      <td>3.903302</td>\n",
       "      <td>14.094723</td>\n",
       "      <td>1.945044</td>\n",
       "      <td>5.517242</td>\n",
       "      <td>3.610789</td>\n",
       "      <td>1.224114</td>\n",
       "      <td>0.231630</td>\n",
       "      <td>18.376407</td>\n",
       "      <td>7.517125</td>\n",
       "      <td>ACUE</td>\n",
       "      <td>-4.805344e-07</td>\n",
       "      <td>D</td>\n",
       "      <td>0.148843</td>\n",
       "      <td>1.308269</td>\n",
       "      <td>2.303640</td>\n",
       "      <td>8.926662</td>\n",
       "      <td>8.874521</td>\n",
       "      <td>C</td>\n",
       "      <td>B</td>\n",
       "      <td>1.587644</td>\n",
       "      <td>1.666667</td>\n",
       "      <td>8.703550</td>\n",
       "      <td>8.898468</td>\n",
       "      <td>11.302795</td>\n",
       "      <td>0.433735</td>\n",
       "      <td>0</td>\n",
       "      <td>...</td>\n",
       "      <td>0.763925</td>\n",
       "      <td>5.498902</td>\n",
       "      <td>3.423944</td>\n",
       "      <td>0.832518</td>\n",
       "      <td>7.375480</td>\n",
       "      <td>6.746988</td>\n",
       "      <td>6.942002</td>\n",
       "      <td>1.334611</td>\n",
       "      <td>18.256352</td>\n",
       "      <td>8.507281</td>\n",
       "      <td>2.503055</td>\n",
       "      <td>4.872157</td>\n",
       "      <td>2.573664</td>\n",
       "      <td>0.113967</td>\n",
       "      <td>12.554274</td>\n",
       "      <td>B</td>\n",
       "      <td>2.230754</td>\n",
       "      <td>1.990131</td>\n",
       "      <td>B</td>\n",
       "      <td>2.643678</td>\n",
       "      <td>J</td>\n",
       "      <td>NaN</td>\n",
       "      <td>13.777666</td>\n",
       "      <td>10.574713</td>\n",
       "      <td>1.511063</td>\n",
       "      <td>4.949609</td>\n",
       "      <td>7.180722</td>\n",
       "      <td>5.655086e-01</td>\n",
       "      <td>1.166281</td>\n",
       "      <td>1.956521</td>\n",
       "      <td>7.018256</td>\n",
       "      <td>1.812795</td>\n",
       "      <td>0.002267</td>\n",
       "      <td>CJ</td>\n",
       "      <td>1.415230</td>\n",
       "      <td>2.954381</td>\n",
       "      <td>1.990847</td>\n",
       "      <td>1</td>\n",
       "      <td>1.677108</td>\n",
       "      <td>1.034483</td>\n",
       "    </tr>\n",
       "    <tr>\n",
       "      <th>4</th>\n",
       "      <td>8</td>\n",
       "      <td>1</td>\n",
       "      <td>NaN</td>\n",
       "      <td>NaN</td>\n",
       "      <td>C</td>\n",
       "      <td>NaN</td>\n",
       "      <td>NaN</td>\n",
       "      <td>NaN</td>\n",
       "      <td>NaN</td>\n",
       "      <td>NaN</td>\n",
       "      <td>NaN</td>\n",
       "      <td>1.050328</td>\n",
       "      <td>NaN</td>\n",
       "      <td>6.320087</td>\n",
       "      <td>NaN</td>\n",
       "      <td>10.991098</td>\n",
       "      <td>NaN</td>\n",
       "      <td>NaN</td>\n",
       "      <td>NaN</td>\n",
       "      <td>NaN</td>\n",
       "      <td>NaN</td>\n",
       "      <td>NaN</td>\n",
       "      <td>6.414567</td>\n",
       "      <td>HIT</td>\n",
       "      <td>NaN</td>\n",
       "      <td>E</td>\n",
       "      <td>NaN</td>\n",
       "      <td>NaN</td>\n",
       "      <td>NaN</td>\n",
       "      <td>NaN</td>\n",
       "      <td>NaN</td>\n",
       "      <td>NaN</td>\n",
       "      <td>A</td>\n",
       "      <td>NaN</td>\n",
       "      <td>NaN</td>\n",
       "      <td>6.083151</td>\n",
       "      <td>NaN</td>\n",
       "      <td>NaN</td>\n",
       "      <td>NaN</td>\n",
       "      <td>0</td>\n",
       "      <td>...</td>\n",
       "      <td>NaN</td>\n",
       "      <td>NaN</td>\n",
       "      <td>NaN</td>\n",
       "      <td>NaN</td>\n",
       "      <td>NaN</td>\n",
       "      <td>NaN</td>\n",
       "      <td>NaN</td>\n",
       "      <td>NaN</td>\n",
       "      <td>NaN</td>\n",
       "      <td>NaN</td>\n",
       "      <td>NaN</td>\n",
       "      <td>NaN</td>\n",
       "      <td>NaN</td>\n",
       "      <td>NaN</td>\n",
       "      <td>NaN</td>\n",
       "      <td>C</td>\n",
       "      <td>NaN</td>\n",
       "      <td>NaN</td>\n",
       "      <td>A</td>\n",
       "      <td>NaN</td>\n",
       "      <td>T</td>\n",
       "      <td>G</td>\n",
       "      <td>14.097099</td>\n",
       "      <td>NaN</td>\n",
       "      <td>NaN</td>\n",
       "      <td>NaN</td>\n",
       "      <td>NaN</td>\n",
       "      <td>NaN</td>\n",
       "      <td>NaN</td>\n",
       "      <td>NaN</td>\n",
       "      <td>NaN</td>\n",
       "      <td>NaN</td>\n",
       "      <td>NaN</td>\n",
       "      <td>Z</td>\n",
       "      <td>NaN</td>\n",
       "      <td>NaN</td>\n",
       "      <td>NaN</td>\n",
       "      <td>0</td>\n",
       "      <td>NaN</td>\n",
       "      <td>NaN</td>\n",
       "    </tr>\n",
       "  </tbody>\n",
       "</table>\n",
       "<p>5 rows × 133 columns</p>\n",
       "</div>"
      ],
      "text/plain": [
       "   ID  target        v1        v2  ...      v128  v129      v130      v131\n",
       "0   3       1  1.335739  8.727474  ...  2.024285     0  0.636365  2.857144\n",
       "1   4       1       NaN       NaN  ...  1.957825     0       NaN       NaN\n",
       "2   5       1  0.943877  5.310079  ...  1.120468     2  0.883118  1.176472\n",
       "3   6       1  0.797415  8.304757  ...  1.990847     1  1.677108  1.034483\n",
       "4   8       1       NaN       NaN  ...       NaN     0       NaN       NaN\n",
       "\n",
       "[5 rows x 133 columns]"
      ]
     },
     "execution_count": 37,
     "metadata": {
      "tags": []
     },
     "output_type": "execute_result"
    }
   ],
   "source": [
    "traindf.head()"
   ]
  },
  {
   "cell_type": "code",
   "execution_count": null,
   "metadata": {
    "colab": {},
    "colab_type": "code",
    "id": "IkAhhIsJQaLj"
   },
   "outputs": [],
   "source": []
  },
  {
   "cell_type": "code",
   "execution_count": null,
   "metadata": {
    "colab": {},
    "colab_type": "code",
    "id": "nuwyNpJJQzgY"
   },
   "outputs": [],
   "source": []
  },
  {
   "cell_type": "markdown",
   "metadata": {
    "colab_type": "text",
    "id": "ukk1rzHiQ1Mh"
   },
   "source": [
    "# Let's check if the data set is balanced or not "
   ]
  },
  {
   "cell_type": "code",
   "execution_count": null,
   "metadata": {
    "colab": {
     "base_uri": "https://localhost:8080/",
     "height": 68
    },
    "colab_type": "code",
    "id": "_-I8gY8TQaV0",
    "outputId": "30a84230-0e48-4241-be46-155abd6f41c6"
   },
   "outputs": [
    {
     "data": {
      "text/plain": [
       "1    0.761199\n",
       "0    0.238801\n",
       "Name: target, dtype: float64"
      ]
     },
     "execution_count": 19,
     "metadata": {
      "tags": []
     },
     "output_type": "execute_result"
    }
   ],
   "source": [
    "traindf[\"target\"].value_counts()/traindf.shape[0]"
   ]
  },
  {
   "cell_type": "code",
   "execution_count": null,
   "metadata": {
    "colab": {},
    "colab_type": "code",
    "id": "E17MSXZVQ58Z"
   },
   "outputs": [],
   "source": []
  },
  {
   "cell_type": "code",
   "execution_count": null,
   "metadata": {
    "colab": {},
    "colab_type": "code",
    "id": "mkkVAiFKQ6BP"
   },
   "outputs": [],
   "source": []
  },
  {
   "cell_type": "markdown",
   "metadata": {
    "colab_type": "text",
    "id": "7vo7txJQQbiB"
   },
   "source": [
    "# Concatenating train and test data set for cleaning purpose "
   ]
  },
  {
   "cell_type": "code",
   "execution_count": null,
   "metadata": {
    "colab": {},
    "colab_type": "code",
    "id": "RA3E7WYouIEm"
   },
   "outputs": [],
   "source": [
    "testdf[\"target\"]=1\n",
    "traindf[\"Data_ID\"]=\"train\"\n",
    "testdf[\"Data_ID\"]=\"test\""
   ]
  },
  {
   "cell_type": "code",
   "execution_count": null,
   "metadata": {
    "colab": {},
    "colab_type": "code",
    "id": "NiMUZCGht43t"
   },
   "outputs": [],
   "source": [
    "df=pd.concat([traindf,testdf],axis=0,ignore_index=True)"
   ]
  },
  {
   "cell_type": "code",
   "execution_count": null,
   "metadata": {
    "colab": {
     "base_uri": "https://localhost:8080/",
     "height": 287
    },
    "colab_type": "code",
    "id": "sCI4TDozLTAv",
    "outputId": "2e3a04ea-fe25-4345-d9d5-cf51dda8e23f"
   },
   "outputs": [
    {
     "data": {
      "text/html": [
       "<div>\n",
       "<style scoped>\n",
       "    .dataframe tbody tr th:only-of-type {\n",
       "        vertical-align: middle;\n",
       "    }\n",
       "\n",
       "    .dataframe tbody tr th {\n",
       "        vertical-align: top;\n",
       "    }\n",
       "\n",
       "    .dataframe thead th {\n",
       "        text-align: right;\n",
       "    }\n",
       "</style>\n",
       "<table border=\"1\" class=\"dataframe\">\n",
       "  <thead>\n",
       "    <tr style=\"text-align: right;\">\n",
       "      <th></th>\n",
       "      <th>ID</th>\n",
       "      <th>target</th>\n",
       "      <th>v1</th>\n",
       "      <th>v2</th>\n",
       "      <th>v3</th>\n",
       "      <th>v4</th>\n",
       "      <th>v5</th>\n",
       "      <th>v6</th>\n",
       "      <th>v7</th>\n",
       "      <th>v8</th>\n",
       "      <th>v9</th>\n",
       "      <th>v10</th>\n",
       "      <th>v11</th>\n",
       "      <th>v12</th>\n",
       "      <th>v13</th>\n",
       "      <th>v14</th>\n",
       "      <th>v15</th>\n",
       "      <th>v16</th>\n",
       "      <th>v17</th>\n",
       "      <th>v18</th>\n",
       "      <th>v19</th>\n",
       "      <th>v20</th>\n",
       "      <th>v21</th>\n",
       "      <th>v22</th>\n",
       "      <th>v23</th>\n",
       "      <th>v24</th>\n",
       "      <th>v25</th>\n",
       "      <th>v26</th>\n",
       "      <th>v27</th>\n",
       "      <th>v28</th>\n",
       "      <th>v29</th>\n",
       "      <th>v30</th>\n",
       "      <th>v31</th>\n",
       "      <th>v32</th>\n",
       "      <th>v33</th>\n",
       "      <th>v34</th>\n",
       "      <th>v35</th>\n",
       "      <th>v36</th>\n",
       "      <th>v37</th>\n",
       "      <th>v38</th>\n",
       "      <th>...</th>\n",
       "      <th>v93</th>\n",
       "      <th>v94</th>\n",
       "      <th>v95</th>\n",
       "      <th>v96</th>\n",
       "      <th>v97</th>\n",
       "      <th>v98</th>\n",
       "      <th>v99</th>\n",
       "      <th>v100</th>\n",
       "      <th>v101</th>\n",
       "      <th>v102</th>\n",
       "      <th>v103</th>\n",
       "      <th>v104</th>\n",
       "      <th>v105</th>\n",
       "      <th>v106</th>\n",
       "      <th>v107</th>\n",
       "      <th>v108</th>\n",
       "      <th>v109</th>\n",
       "      <th>v110</th>\n",
       "      <th>v111</th>\n",
       "      <th>v112</th>\n",
       "      <th>v113</th>\n",
       "      <th>v114</th>\n",
       "      <th>v115</th>\n",
       "      <th>v116</th>\n",
       "      <th>v117</th>\n",
       "      <th>v118</th>\n",
       "      <th>v119</th>\n",
       "      <th>v120</th>\n",
       "      <th>v121</th>\n",
       "      <th>v122</th>\n",
       "      <th>v123</th>\n",
       "      <th>v124</th>\n",
       "      <th>v125</th>\n",
       "      <th>v126</th>\n",
       "      <th>v127</th>\n",
       "      <th>v128</th>\n",
       "      <th>v129</th>\n",
       "      <th>v130</th>\n",
       "      <th>v131</th>\n",
       "      <th>Data_ID</th>\n",
       "    </tr>\n",
       "  </thead>\n",
       "  <tbody>\n",
       "    <tr>\n",
       "      <th>228709</th>\n",
       "      <td>228700</td>\n",
       "      <td>1</td>\n",
       "      <td>NaN</td>\n",
       "      <td>NaN</td>\n",
       "      <td>C</td>\n",
       "      <td>NaN</td>\n",
       "      <td>NaN</td>\n",
       "      <td>NaN</td>\n",
       "      <td>NaN</td>\n",
       "      <td>NaN</td>\n",
       "      <td>NaN</td>\n",
       "      <td>1.312910</td>\n",
       "      <td>NaN</td>\n",
       "      <td>6.432674</td>\n",
       "      <td>NaN</td>\n",
       "      <td>12.230137</td>\n",
       "      <td>NaN</td>\n",
       "      <td>NaN</td>\n",
       "      <td>NaN</td>\n",
       "      <td>NaN</td>\n",
       "      <td>NaN</td>\n",
       "      <td>NaN</td>\n",
       "      <td>7.345590</td>\n",
       "      <td>ADRO</td>\n",
       "      <td>NaN</td>\n",
       "      <td>D</td>\n",
       "      <td>NaN</td>\n",
       "      <td>NaN</td>\n",
       "      <td>NaN</td>\n",
       "      <td>NaN</td>\n",
       "      <td>NaN</td>\n",
       "      <td>NaN</td>\n",
       "      <td>A</td>\n",
       "      <td>NaN</td>\n",
       "      <td>NaN</td>\n",
       "      <td>5.908466</td>\n",
       "      <td>NaN</td>\n",
       "      <td>NaN</td>\n",
       "      <td>NaN</td>\n",
       "      <td>0</td>\n",
       "      <td>...</td>\n",
       "      <td>NaN</td>\n",
       "      <td>NaN</td>\n",
       "      <td>NaN</td>\n",
       "      <td>NaN</td>\n",
       "      <td>NaN</td>\n",
       "      <td>NaN</td>\n",
       "      <td>NaN</td>\n",
       "      <td>NaN</td>\n",
       "      <td>NaN</td>\n",
       "      <td>NaN</td>\n",
       "      <td>NaN</td>\n",
       "      <td>NaN</td>\n",
       "      <td>NaN</td>\n",
       "      <td>NaN</td>\n",
       "      <td>B</td>\n",
       "      <td>NaN</td>\n",
       "      <td>NaN</td>\n",
       "      <td>A</td>\n",
       "      <td>NaN</td>\n",
       "      <td>A</td>\n",
       "      <td>P</td>\n",
       "      <td>13.765782</td>\n",
       "      <td>NaN</td>\n",
       "      <td>NaN</td>\n",
       "      <td>NaN</td>\n",
       "      <td>NaN</td>\n",
       "      <td>NaN</td>\n",
       "      <td>NaN</td>\n",
       "      <td>NaN</td>\n",
       "      <td>NaN</td>\n",
       "      <td>NaN</td>\n",
       "      <td>NaN</td>\n",
       "      <td>AG</td>\n",
       "      <td>NaN</td>\n",
       "      <td>NaN</td>\n",
       "      <td>NaN</td>\n",
       "      <td>0</td>\n",
       "      <td>NaN</td>\n",
       "      <td>NaN</td>\n",
       "      <td>test</td>\n",
       "    </tr>\n",
       "    <tr>\n",
       "      <th>228710</th>\n",
       "      <td>228703</td>\n",
       "      <td>1</td>\n",
       "      <td>NaN</td>\n",
       "      <td>NaN</td>\n",
       "      <td>C</td>\n",
       "      <td>NaN</td>\n",
       "      <td>NaN</td>\n",
       "      <td>NaN</td>\n",
       "      <td>NaN</td>\n",
       "      <td>NaN</td>\n",
       "      <td>NaN</td>\n",
       "      <td>2.625820</td>\n",
       "      <td>NaN</td>\n",
       "      <td>7.860420</td>\n",
       "      <td>NaN</td>\n",
       "      <td>11.756788</td>\n",
       "      <td>NaN</td>\n",
       "      <td>NaN</td>\n",
       "      <td>NaN</td>\n",
       "      <td>NaN</td>\n",
       "      <td>NaN</td>\n",
       "      <td>NaN</td>\n",
       "      <td>6.172414</td>\n",
       "      <td>TFN</td>\n",
       "      <td>NaN</td>\n",
       "      <td>D</td>\n",
       "      <td>NaN</td>\n",
       "      <td>NaN</td>\n",
       "      <td>NaN</td>\n",
       "      <td>NaN</td>\n",
       "      <td>NaN</td>\n",
       "      <td>NaN</td>\n",
       "      <td>A</td>\n",
       "      <td>NaN</td>\n",
       "      <td>NaN</td>\n",
       "      <td>8.409235</td>\n",
       "      <td>NaN</td>\n",
       "      <td>NaN</td>\n",
       "      <td>NaN</td>\n",
       "      <td>0</td>\n",
       "      <td>...</td>\n",
       "      <td>NaN</td>\n",
       "      <td>NaN</td>\n",
       "      <td>NaN</td>\n",
       "      <td>NaN</td>\n",
       "      <td>NaN</td>\n",
       "      <td>NaN</td>\n",
       "      <td>NaN</td>\n",
       "      <td>NaN</td>\n",
       "      <td>NaN</td>\n",
       "      <td>NaN</td>\n",
       "      <td>NaN</td>\n",
       "      <td>NaN</td>\n",
       "      <td>NaN</td>\n",
       "      <td>NaN</td>\n",
       "      <td>D</td>\n",
       "      <td>NaN</td>\n",
       "      <td>NaN</td>\n",
       "      <td>A</td>\n",
       "      <td>NaN</td>\n",
       "      <td>P</td>\n",
       "      <td>AJ</td>\n",
       "      <td>15.217400</td>\n",
       "      <td>NaN</td>\n",
       "      <td>NaN</td>\n",
       "      <td>NaN</td>\n",
       "      <td>NaN</td>\n",
       "      <td>NaN</td>\n",
       "      <td>NaN</td>\n",
       "      <td>NaN</td>\n",
       "      <td>NaN</td>\n",
       "      <td>NaN</td>\n",
       "      <td>NaN</td>\n",
       "      <td>H</td>\n",
       "      <td>NaN</td>\n",
       "      <td>NaN</td>\n",
       "      <td>NaN</td>\n",
       "      <td>0</td>\n",
       "      <td>NaN</td>\n",
       "      <td>NaN</td>\n",
       "      <td>test</td>\n",
       "    </tr>\n",
       "    <tr>\n",
       "      <th>228711</th>\n",
       "      <td>228704</td>\n",
       "      <td>1</td>\n",
       "      <td>1.523740</td>\n",
       "      <td>6.571597</td>\n",
       "      <td>C</td>\n",
       "      <td>3.827086</td>\n",
       "      <td>8.824122</td>\n",
       "      <td>2.635660</td>\n",
       "      <td>2.218992</td>\n",
       "      <td>6.534959</td>\n",
       "      <td>8.852942</td>\n",
       "      <td>1.291028</td>\n",
       "      <td>15.053365</td>\n",
       "      <td>6.401821</td>\n",
       "      <td>5.467415</td>\n",
       "      <td>12.306726</td>\n",
       "      <td>2.493151</td>\n",
       "      <td>6.538461</td>\n",
       "      <td>4.526859</td>\n",
       "      <td>1.462295</td>\n",
       "      <td>0.232271</td>\n",
       "      <td>18.311942</td>\n",
       "      <td>7.116469</td>\n",
       "      <td>YOD</td>\n",
       "      <td>5.560987e-07</td>\n",
       "      <td>C</td>\n",
       "      <td>4.937175</td>\n",
       "      <td>2.060724</td>\n",
       "      <td>1.986433</td>\n",
       "      <td>8.824033</td>\n",
       "      <td>9.433140</td>\n",
       "      <td>C</td>\n",
       "      <td>A</td>\n",
       "      <td>2.187499</td>\n",
       "      <td>2.015504</td>\n",
       "      <td>7.951816</td>\n",
       "      <td>8.672481</td>\n",
       "      <td>15.341749</td>\n",
       "      <td>0.742359</td>\n",
       "      <td>0</td>\n",
       "      <td>...</td>\n",
       "      <td>6.579659</td>\n",
       "      <td>3.833224</td>\n",
       "      <td>0.798950</td>\n",
       "      <td>7.267441</td>\n",
       "      <td>9.344978</td>\n",
       "      <td>5.298226</td>\n",
       "      <td>1.900840</td>\n",
       "      <td>2.397293</td>\n",
       "      <td>6.176374</td>\n",
       "      <td>3.297082</td>\n",
       "      <td>4.879890</td>\n",
       "      <td>3.591159</td>\n",
       "      <td>3.918896</td>\n",
       "      <td>12.995298</td>\n",
       "      <td>A</td>\n",
       "      <td>1.528646</td>\n",
       "      <td>2.788445</td>\n",
       "      <td>B</td>\n",
       "      <td>2.674420</td>\n",
       "      <td>A</td>\n",
       "      <td>NaN</td>\n",
       "      <td>16.044069</td>\n",
       "      <td>8.846153</td>\n",
       "      <td>2.198253</td>\n",
       "      <td>9.094048</td>\n",
       "      <td>10.131005</td>\n",
       "      <td>0.187292</td>\n",
       "      <td>0.734655</td>\n",
       "      <td>2.093023</td>\n",
       "      <td>6.852941</td>\n",
       "      <td>2.093560</td>\n",
       "      <td>5.111015e+00</td>\n",
       "      <td>V</td>\n",
       "      <td>1.826453</td>\n",
       "      <td>2.661700</td>\n",
       "      <td>1.601567</td>\n",
       "      <td>0</td>\n",
       "      <td>1.816594</td>\n",
       "      <td>1.634616</td>\n",
       "      <td>test</td>\n",
       "    </tr>\n",
       "    <tr>\n",
       "      <th>228712</th>\n",
       "      <td>228706</td>\n",
       "      <td>1</td>\n",
       "      <td>NaN</td>\n",
       "      <td>NaN</td>\n",
       "      <td>C</td>\n",
       "      <td>NaN</td>\n",
       "      <td>NaN</td>\n",
       "      <td>NaN</td>\n",
       "      <td>NaN</td>\n",
       "      <td>NaN</td>\n",
       "      <td>NaN</td>\n",
       "      <td>1.816193</td>\n",
       "      <td>NaN</td>\n",
       "      <td>7.082104</td>\n",
       "      <td>NaN</td>\n",
       "      <td>12.512040</td>\n",
       "      <td>NaN</td>\n",
       "      <td>NaN</td>\n",
       "      <td>NaN</td>\n",
       "      <td>NaN</td>\n",
       "      <td>NaN</td>\n",
       "      <td>NaN</td>\n",
       "      <td>7.185821</td>\n",
       "      <td>AGDF</td>\n",
       "      <td>NaN</td>\n",
       "      <td>E</td>\n",
       "      <td>NaN</td>\n",
       "      <td>NaN</td>\n",
       "      <td>NaN</td>\n",
       "      <td>NaN</td>\n",
       "      <td>NaN</td>\n",
       "      <td>NaN</td>\n",
       "      <td>A</td>\n",
       "      <td>NaN</td>\n",
       "      <td>NaN</td>\n",
       "      <td>2.801981</td>\n",
       "      <td>NaN</td>\n",
       "      <td>NaN</td>\n",
       "      <td>NaN</td>\n",
       "      <td>0</td>\n",
       "      <td>...</td>\n",
       "      <td>NaN</td>\n",
       "      <td>NaN</td>\n",
       "      <td>NaN</td>\n",
       "      <td>NaN</td>\n",
       "      <td>NaN</td>\n",
       "      <td>NaN</td>\n",
       "      <td>NaN</td>\n",
       "      <td>NaN</td>\n",
       "      <td>NaN</td>\n",
       "      <td>NaN</td>\n",
       "      <td>NaN</td>\n",
       "      <td>NaN</td>\n",
       "      <td>NaN</td>\n",
       "      <td>NaN</td>\n",
       "      <td>C</td>\n",
       "      <td>NaN</td>\n",
       "      <td>NaN</td>\n",
       "      <td>B</td>\n",
       "      <td>NaN</td>\n",
       "      <td>F</td>\n",
       "      <td>NaN</td>\n",
       "      <td>7.690025</td>\n",
       "      <td>NaN</td>\n",
       "      <td>NaN</td>\n",
       "      <td>NaN</td>\n",
       "      <td>NaN</td>\n",
       "      <td>NaN</td>\n",
       "      <td>NaN</td>\n",
       "      <td>NaN</td>\n",
       "      <td>NaN</td>\n",
       "      <td>NaN</td>\n",
       "      <td>NaN</td>\n",
       "      <td>AZ</td>\n",
       "      <td>NaN</td>\n",
       "      <td>NaN</td>\n",
       "      <td>NaN</td>\n",
       "      <td>0</td>\n",
       "      <td>NaN</td>\n",
       "      <td>NaN</td>\n",
       "      <td>test</td>\n",
       "    </tr>\n",
       "    <tr>\n",
       "      <th>228713</th>\n",
       "      <td>228709</td>\n",
       "      <td>1</td>\n",
       "      <td>1.633554</td>\n",
       "      <td>7.520583</td>\n",
       "      <td>C</td>\n",
       "      <td>4.264139</td>\n",
       "      <td>6.402152</td>\n",
       "      <td>1.766004</td>\n",
       "      <td>2.207506</td>\n",
       "      <td>0.020415</td>\n",
       "      <td>9.333333</td>\n",
       "      <td>0.787746</td>\n",
       "      <td>15.454545</td>\n",
       "      <td>6.489439</td>\n",
       "      <td>3.136958</td>\n",
       "      <td>10.310286</td>\n",
       "      <td>1.869658</td>\n",
       "      <td>7.000001</td>\n",
       "      <td>2.716707</td>\n",
       "      <td>0.194360</td>\n",
       "      <td>0.227855</td>\n",
       "      <td>16.722560</td>\n",
       "      <td>6.055573</td>\n",
       "      <td>AEFV</td>\n",
       "      <td>2.406027e-07</td>\n",
       "      <td>C</td>\n",
       "      <td>0.064867</td>\n",
       "      <td>1.537896</td>\n",
       "      <td>3.046358</td>\n",
       "      <td>0.966431</td>\n",
       "      <td>6.887418</td>\n",
       "      <td>D</td>\n",
       "      <td>A</td>\n",
       "      <td>1.390728</td>\n",
       "      <td>1.766005</td>\n",
       "      <td>7.276865</td>\n",
       "      <td>7.770419</td>\n",
       "      <td>12.266509</td>\n",
       "      <td>0.800000</td>\n",
       "      <td>0</td>\n",
       "      <td>...</td>\n",
       "      <td>3.963624</td>\n",
       "      <td>3.740892</td>\n",
       "      <td>0.573767</td>\n",
       "      <td>5.518763</td>\n",
       "      <td>6.800000</td>\n",
       "      <td>9.165927</td>\n",
       "      <td>0.485652</td>\n",
       "      <td>17.090909</td>\n",
       "      <td>5.893976</td>\n",
       "      <td>1.378688</td>\n",
       "      <td>4.903783</td>\n",
       "      <td>2.165606</td>\n",
       "      <td>0.009049</td>\n",
       "      <td>10.610316</td>\n",
       "      <td>A</td>\n",
       "      <td>1.370978</td>\n",
       "      <td>1.957236</td>\n",
       "      <td>A</td>\n",
       "      <td>2.649007</td>\n",
       "      <td>E</td>\n",
       "      <td>AF</td>\n",
       "      <td>15.276883</td>\n",
       "      <td>9.999999</td>\n",
       "      <td>2.179487</td>\n",
       "      <td>4.583800</td>\n",
       "      <td>7.600000</td>\n",
       "      <td>0.803274</td>\n",
       "      <td>2.181818</td>\n",
       "      <td>2.049688</td>\n",
       "      <td>6.222221</td>\n",
       "      <td>2.740374</td>\n",
       "      <td>9.168495e-07</td>\n",
       "      <td>BP</td>\n",
       "      <td>1.726724</td>\n",
       "      <td>4.966887</td>\n",
       "      <td>1.429776</td>\n",
       "      <td>0</td>\n",
       "      <td>1.600000</td>\n",
       "      <td>2.000000</td>\n",
       "      <td>test</td>\n",
       "    </tr>\n",
       "  </tbody>\n",
       "</table>\n",
       "<p>5 rows × 134 columns</p>\n",
       "</div>"
      ],
      "text/plain": [
       "            ID  target        v1        v2  ... v129      v130      v131  Data_ID\n",
       "228709  228700       1       NaN       NaN  ...    0       NaN       NaN     test\n",
       "228710  228703       1       NaN       NaN  ...    0       NaN       NaN     test\n",
       "228711  228704       1  1.523740  6.571597  ...    0  1.816594  1.634616     test\n",
       "228712  228706       1       NaN       NaN  ...    0       NaN       NaN     test\n",
       "228713  228709       1  1.633554  7.520583  ...    0  1.600000  2.000000     test\n",
       "\n",
       "[5 rows x 134 columns]"
      ]
     },
     "execution_count": 22,
     "metadata": {
      "tags": []
     },
     "output_type": "execute_result"
    }
   ],
   "source": [
    "df.tail()"
   ]
  },
  {
   "cell_type": "code",
   "execution_count": null,
   "metadata": {
    "colab": {},
    "colab_type": "code",
    "id": "RbMpe1_ELTOH"
   },
   "outputs": [],
   "source": []
  },
  {
   "cell_type": "code",
   "execution_count": null,
   "metadata": {
    "colab": {},
    "colab_type": "code",
    "id": "ek2F_sNMLTKz"
   },
   "outputs": [],
   "source": []
  },
  {
   "cell_type": "markdown",
   "metadata": {
    "colab_type": "text",
    "id": "U1ANF-fCuJmw"
   },
   "source": [
    "# Checking Column types"
   ]
  },
  {
   "cell_type": "code",
   "execution_count": null,
   "metadata": {
    "colab": {
     "base_uri": "https://localhost:8080/",
     "height": 85
    },
    "colab_type": "code",
    "id": "qVCxok52uPIy",
    "outputId": "c38a4e8d-fa2c-4adb-ac24-caa78d50ce23"
   },
   "outputs": [
    {
     "data": {
      "text/plain": [
       "float64    108\n",
       "object      20\n",
       "int64        6\n",
       "dtype: int64"
      ]
     },
     "execution_count": 23,
     "metadata": {
      "tags": []
     },
     "output_type": "execute_result"
    }
   ],
   "source": [
    "df.dtypes.value_counts()"
   ]
  },
  {
   "cell_type": "code",
   "execution_count": null,
   "metadata": {
    "colab": {
     "base_uri": "https://localhost:8080/",
     "height": 34
    },
    "colab_type": "code",
    "id": "jOHstYh7uPRa",
    "outputId": "b997f11c-4e58-45ee-9b30-d392382d766a"
   },
   "outputs": [
    {
     "data": {
      "text/plain": [
       "Index(['Data_ID'], dtype='object')"
      ]
     },
     "execution_count": 36,
     "metadata": {
      "tags": []
     },
     "output_type": "execute_result"
    }
   ],
   "source": []
  },
  {
   "cell_type": "code",
   "execution_count": null,
   "metadata": {
    "colab": {},
    "colab_type": "code",
    "id": "6PlqaUYhuPU-"
   },
   "outputs": [],
   "source": []
  },
  {
   "cell_type": "markdown",
   "metadata": {
    "colab_type": "text",
    "id": "EjKhFsNDt6R4"
   },
   "source": [
    "# Checking Percentage of Missing Values "
   ]
  },
  {
   "cell_type": "code",
   "execution_count": null,
   "metadata": {
    "colab": {
     "base_uri": "https://localhost:8080/",
     "height": 119
    },
    "colab_type": "code",
    "id": "by2C5EN2keem",
    "outputId": "2fd3ec02-8d89-49c1-d3f4-b1206043f9c0"
   },
   "outputs": [
    {
     "data": {
      "text/plain": [
       "Data_ID    0.0\n",
       "v48        0.0\n",
       "v34        0.0\n",
       "v35        0.0\n",
       "v36        0.0\n",
       "dtype: float64"
      ]
     },
     "execution_count": 29,
     "metadata": {
      "tags": []
     },
     "output_type": "execute_result"
    }
   ],
   "source": [
    "(df.isnull().sum()/df.shape[0]).sort_values(ascending=False).head(5)"
   ]
  },
  {
   "cell_type": "code",
   "execution_count": null,
   "metadata": {
    "colab": {},
    "colab_type": "code",
    "id": "X9ktPZ4AtRcN"
   },
   "outputs": [],
   "source": []
  },
  {
   "cell_type": "code",
   "execution_count": null,
   "metadata": {
    "colab": {},
    "colab_type": "code",
    "id": "MNurIDTMt_fo"
   },
   "outputs": [],
   "source": []
  },
  {
   "cell_type": "code",
   "execution_count": null,
   "metadata": {
    "colab": {},
    "colab_type": "code",
    "id": "f47kPg_sIlMF"
   },
   "outputs": [],
   "source": []
  },
  {
   "cell_type": "markdown",
   "metadata": {
    "colab_type": "text",
    "id": "UqqtMeYhuDoY"
   },
   "source": [
    "# Imputing Missing Values"
   ]
  },
  {
   "cell_type": "code",
   "execution_count": null,
   "metadata": {
    "colab": {},
    "colab_type": "code",
    "id": "YPJaD9DmuGkj"
   },
   "outputs": [],
   "source": [
    "for x in df.columns:\n",
    "  if x not in [\"ID\",\"Data_ID\",\"target\"]:\n",
    "    if df[x].dtype==\"O\":\n",
    "      df[x],_=pd.factorize(df[x])\n",
    "    else :\n",
    "      df[x].fillna(df[x].mean(),inplace=True)\n",
    "\n",
    "\n",
    "  "
   ]
  },
  {
   "cell_type": "code",
   "execution_count": null,
   "metadata": {
    "colab": {},
    "colab_type": "code",
    "id": "NrhGe35XL9FU"
   },
   "outputs": [],
   "source": []
  },
  {
   "cell_type": "code",
   "execution_count": null,
   "metadata": {
    "colab": {},
    "colab_type": "code",
    "id": "7XKLXVUwOimL"
   },
   "outputs": [],
   "source": []
  },
  {
   "cell_type": "markdown",
   "metadata": {
    "colab_type": "text",
    "id": "9TTX-0POT0jr"
   },
   "source": [
    "# Splitting back into train and test data set "
   ]
  },
  {
   "cell_type": "code",
   "execution_count": null,
   "metadata": {
    "colab": {},
    "colab_type": "code",
    "id": "iAdgVCXbT4QA"
   },
   "outputs": [],
   "source": [
    "traindf=df[df.Data_ID==\"train\"]\n",
    "testdf=df[df.Data_ID==\"test\"]\n"
   ]
  },
  {
   "cell_type": "code",
   "execution_count": null,
   "metadata": {
    "colab": {},
    "colab_type": "code",
    "id": "U1AodeeNUFp8"
   },
   "outputs": [],
   "source": [
    "traindf.drop(\"Data_ID\",axis=1,inplace=True)\n",
    "testdf.drop(\"Data_ID\",axis=1,inplace=True)"
   ]
  },
  {
   "cell_type": "code",
   "execution_count": null,
   "metadata": {
    "colab": {},
    "colab_type": "code",
    "id": "EkbLfNXTUgyF"
   },
   "outputs": [],
   "source": []
  },
  {
   "cell_type": "code",
   "execution_count": null,
   "metadata": {
    "colab": {},
    "colab_type": "code",
    "id": "RR8KVyUGVWA6"
   },
   "outputs": [],
   "source": []
  },
  {
   "cell_type": "markdown",
   "metadata": {
    "colab_type": "text",
    "id": "Pzcmuc5BYIb4"
   },
   "source": [
    "# Splitting train data into two parts ,one for training and other for validation "
   ]
  },
  {
   "cell_type": "code",
   "execution_count": null,
   "metadata": {
    "colab": {},
    "colab_type": "code",
    "id": "_1tFacAjYOyb"
   },
   "outputs": [],
   "source": [
    "\n",
    "\n",
    "X = traindf.drop([[\"target\",\"ID\"]], axis=1)\n",
    "Y = traindf['target']\n",
    "\n",
    "\n",
    "testdf.drop(\"target\",axis=1,inplace=True)\n",
    "\n"
   ]
  },
  {
   "cell_type": "code",
   "execution_count": null,
   "metadata": {
    "colab": {
     "base_uri": "https://localhost:8080/",
     "height": 68
    },
    "colab_type": "code",
    "id": "QYyGKkQ-YO3c",
    "outputId": "f9d8b314-5a6c-4311-f32e-10bf34fb0b36"
   },
   "outputs": [
    {
     "data": {
      "text/plain": [
       "1    87021\n",
       "0    27300\n",
       "Name: target, dtype: int64"
      ]
     },
     "execution_count": 28,
     "metadata": {
      "tags": []
     },
     "output_type": "execute_result"
    }
   ],
   "source": [
    "Y.value_counts()"
   ]
  },
  {
   "cell_type": "code",
   "execution_count": null,
   "metadata": {
    "colab": {},
    "colab_type": "code",
    "id": "mCZ7W7weZeEa"
   },
   "outputs": [],
   "source": [
    "train_X, val_X, train_Y, val_Y = train_test_split(X, Y, test_size = 0.15, random_state = 123)\n"
   ]
  },
  {
   "cell_type": "code",
   "execution_count": null,
   "metadata": {
    "colab": {},
    "colab_type": "code",
    "id": "8jnZ5sJ5bf0-"
   },
   "outputs": [],
   "source": []
  },
  {
   "cell_type": "markdown",
   "metadata": {
    "colab_type": "text",
    "id": "9EKxI-p_n9KK"
   },
   "source": [
    "# Model Without Validation \n"
   ]
  },
  {
   "cell_type": "code",
   "execution_count": null,
   "metadata": {
    "colab": {
     "base_uri": "https://localhost:8080/",
     "height": 119
    },
    "colab_type": "code",
    "id": "KNtZGLx3bfx0",
    "outputId": "024cf077-b148-4333-a641-e91da2a51f70"
   },
   "outputs": [
    {
     "data": {
      "text/plain": [
       "DecisionTreeClassifier(ccp_alpha=0.0, class_weight=None, criterion='gini',\n",
       "                       max_depth=4, max_features=None, max_leaf_nodes=None,\n",
       "                       min_impurity_decrease=0.0, min_impurity_split=None,\n",
       "                       min_samples_leaf=1, min_samples_split=120,\n",
       "                       min_weight_fraction_leaf=0.0, presort='deprecated',\n",
       "                       random_state=None, splitter='best')"
      ]
     },
     "execution_count": 40,
     "metadata": {
      "tags": []
     },
     "output_type": "execute_result"
    }
   ],
   "source": [
    "model = DecisionTreeClassifier(max_depth=4,min_samples_split=120)\n",
    "model.fit(train_X,train_Y)"
   ]
  },
  {
   "cell_type": "code",
   "execution_count": null,
   "metadata": {
    "colab": {
     "base_uri": "https://localhost:8080/",
     "height": 34
    },
    "colab_type": "code",
    "id": "il8GzzBcoM1z",
    "outputId": "a00d801d-b8a9-4301-d057-6978d31296e8"
   },
   "outputs": [
    {
     "data": {
      "text/plain": [
       "0.5716823801400763"
      ]
     },
     "execution_count": 41,
     "metadata": {
      "tags": []
     },
     "output_type": "execute_result"
    }
   ],
   "source": [
    "roc_auc_score(train_Y,model.predict(train_X))"
   ]
  },
  {
   "cell_type": "code",
   "execution_count": null,
   "metadata": {
    "colab": {
     "base_uri": "https://localhost:8080/",
     "height": 34
    },
    "colab_type": "code",
    "id": "xzmvgPBkoBmA",
    "outputId": "fa9d5bc1-4c34-485f-e6eb-f33b7875d414"
   },
   "outputs": [
    {
     "name": "stdout",
     "output_type": "stream",
     "text": [
      "The auc for validation dataset  0.57\n"
     ]
    }
   ],
   "source": [
    "score_val = roc_auc_score(val_Y,model.predict(val_X))\n",
    "print(\"The auc for validation dataset {: 0.2f}\".format(score_val))"
   ]
  },
  {
   "cell_type": "code",
   "execution_count": null,
   "metadata": {
    "colab": {},
    "colab_type": "code",
    "id": "0EpeOYO4oB1G"
   },
   "outputs": [],
   "source": []
  },
  {
   "cell_type": "markdown",
   "metadata": {
    "colab_type": "text",
    "id": "HibwjmcwYDbr"
   },
   "source": [
    "# Types of Cross-Validation "
   ]
  },
  {
   "cell_type": "code",
   "execution_count": null,
   "metadata": {
    "colab": {},
    "colab_type": "code",
    "id": "2O2U0vSNYHF8"
   },
   "outputs": [],
   "source": [
    "\n",
    "#kfold = KFold(n_splits=4, shuffle=True,random_state=123)\n",
    "\n",
    "#Shuffles and split once .Split is such that the ratio of labels in target column remains same in each fold \n",
    "kfold=StratifiedKFold(n_splits=4,shuffle=True,random_state=123)\n",
    "\n",
    "#Shuffles and split 4 times or 5 times depending on n_splits parameter\n",
    "#kfold=StratifiedShuffleSplit(n_splits=4,random_state=123)\n",
    "\n",
    "\n",
    "\n",
    "\n"
   ]
  },
  {
   "cell_type": "code",
   "execution_count": null,
   "metadata": {
    "colab": {},
    "colab_type": "code",
    "id": "dUWXRvw8cd2w"
   },
   "outputs": [],
   "source": []
  },
  {
   "cell_type": "markdown",
   "metadata": {
    "colab_type": "text",
    "id": "FEA-UU4Xk9Uc"
   },
   "source": [
    "# Modelling with train and validation split with kfolds"
   ]
  },
  {
   "cell_type": "code",
   "execution_count": null,
   "metadata": {
    "colab": {
     "base_uri": "https://localhost:8080/",
     "height": 221
    },
    "colab_type": "code",
    "id": "HZw0O1wik_ab",
    "outputId": "d2adc15d-6d39-4604-a1f5-1230ea817a1c"
   },
   "outputs": [
    {
     "name": "stdout",
     "output_type": "stream",
     "text": [
      "Score for fold number 0  :\n",
      "ROC for train data  0.50    ROC for Validation data 0.50 \n",
      "\n",
      "Score for fold number 1  :\n",
      "ROC for train data  0.50    ROC for Validation data 0.50 \n",
      "\n",
      "Score for fold number 2  :\n",
      "ROC for train data  0.50    ROC for Validation data 0.50 \n",
      "\n",
      "Score for fold number 3  :\n",
      "ROC for train data  0.50    ROC for Validation data 0.50 \n",
      "\n"
     ]
    }
   ],
   "source": [
    "\n",
    "for i,(train_index,val_index) in enumerate(kfold.split(X,Y)):\n",
    "    train_X,val_X = X.loc[train_index],X.loc[val_index]\n",
    "    train_Y,val_Y = Y.loc[train_index],Y.loc[val_index]\n",
    "    \n",
    "    print('Score for fold number {} '.format(i),\":\")\n",
    "    \n",
    "    #model\n",
    "    model= DecisionTreeClassifier(max_depth=2,min_samples_split=5,max_leaf_nodes=5)\n",
    "    model.fit(train_X,train_Y)\n",
    "        \n",
    "    score_val = roc_auc_score(val_Y,model.predict(val_X))\n",
    "    score_train = roc_auc_score(train_Y,model.predict(train_X))\n",
    "    \n",
    "    print('ROC for train data  {:0.2f}'.format(score_train),'   ROC for Validation data {:0.2f}'.format(score_val),\"\\n\")\n"
   ]
  },
  {
   "cell_type": "code",
   "execution_count": null,
   "metadata": {
    "colab": {},
    "colab_type": "code",
    "id": "cWFwUqHtlI8k"
   },
   "outputs": [],
   "source": []
  },
  {
   "cell_type": "code",
   "execution_count": null,
   "metadata": {
    "colab": {},
    "colab_type": "code",
    "id": "5wDsJHeClVEr"
   },
   "outputs": [],
   "source": []
  },
  {
   "cell_type": "markdown",
   "metadata": {
    "colab_type": "text",
    "id": "GLFryBJGlWWJ"
   },
   "source": [
    "# Xgboosst CV\n"
   ]
  },
  {
   "cell_type": "code",
   "execution_count": null,
   "metadata": {
    "colab": {
     "base_uri": "https://localhost:8080/",
     "height": 68
    },
    "colab_type": "code",
    "id": "Qq93P46NlXiq",
    "outputId": "8f4194c4-87cf-4176-f851-ef307fbf7be9"
   },
   "outputs": [
    {
     "name": "stdout",
     "output_type": "stream",
     "text": [
      "[0]\ttrain-auc:0.704152+0.00245719\ttest-auc:0.697765+0.00338449\n",
      "[100]\ttrain-auc:0.766724+0.000597292\ttest-auc:0.745709+0.000404953\n",
      "139\n"
     ]
    }
   ],
   "source": [
    "params = { \n",
    "   \"objective\": \"binary:logistic\",\n",
    "   \"booster\": \"gbtree\",\n",
    "   \"eval_metric\": \"auc\",\n",
    "   \"eta\": 0.1, \n",
    "   \"min_child_weight\": 240,\n",
    "   \"subsample\": 0.75,\n",
    "   \"colsample_bytree\": 0.68,\n",
    "   \"max_depth\": 6\n",
    "}\n",
    "\n",
    "d_train = xgb.DMatrix(train_X, train_Y)\n",
    "\n",
    "cv_results= xgb.cv(params, d_train, num_boost_round=500, nfold=4, seed=123, stratified=False,\n",
    "                     early_stopping_rounds=25, verbose_eval=100, show_stdv=True)\n",
    "\n",
    "num_boost_rounds = len(cv_results)\n",
    "\n",
    "print(num_boost_rounds)"
   ]
  },
  {
   "cell_type": "code",
   "execution_count": null,
   "metadata": {
    "colab": {},
    "colab_type": "code",
    "id": "Xp7t3ys2leoM"
   },
   "outputs": [],
   "source": []
  },
  {
   "cell_type": "code",
   "execution_count": null,
   "metadata": {
    "colab": {
     "base_uri": "https://localhost:8080/",
     "height": 34
    },
    "colab_type": "code",
    "id": "f5sDCwu5p3Vl",
    "outputId": "27f7793a-9f31-4483-e3a0-c965d93c7c03"
   },
   "outputs": [
    {
     "data": {
      "text/plain": [
       "['target']"
      ]
     },
     "execution_count": 51,
     "metadata": {
      "tags": []
     },
     "output_type": "execute_result"
    }
   ],
   "source": [
    "[x for x in testdf.columns if x not in train_X.columns]"
   ]
  },
  {
   "cell_type": "markdown",
   "metadata": {
    "colab_type": "text",
    "id": "_2d6meTBp5Yz"
   },
   "source": [
    "#Xgboost Modelling"
   ]
  },
  {
   "cell_type": "code",
   "execution_count": null,
   "metadata": {
    "colab": {
     "base_uri": "https://localhost:8080/",
     "height": 629
    },
    "colab_type": "code",
    "id": "h2z-uHbKp6nd",
    "outputId": "bfcfdf02-91d3-4d68-df0f-a90cb5a2e98c"
   },
   "outputs": [
    {
     "name": "stdout",
     "output_type": "stream",
     "text": [
      "The score for fold number 000\n",
      "[0]\ttrain-auc:0.733671\tvalid-auc:0.72458\n",
      "Multiple eval metrics have been passed: 'valid-auc' will be used for early stopping.\n",
      "\n",
      "Will train until valid-auc hasn't improved in 5 rounds.\n",
      "[50]\ttrain-auc:0.758697\tvalid-auc:0.74325\n",
      "Stopping. Best iteration:\n",
      "[65]\ttrain-auc:0.761717\tvalid-auc:0.744308\n",
      "\n",
      "The score for fold number 001\n",
      "[0]\ttrain-auc:0.732835\tvalid-auc:0.726048\n",
      "Multiple eval metrics have been passed: 'valid-auc' will be used for early stopping.\n",
      "\n",
      "Will train until valid-auc hasn't improved in 5 rounds.\n",
      "[50]\ttrain-auc:0.756664\tvalid-auc:0.746931\n",
      "Stopping. Best iteration:\n",
      "[82]\ttrain-auc:0.763486\tvalid-auc:0.748626\n",
      "\n",
      "The score for fold number 002\n",
      "[0]\ttrain-auc:0.732517\tvalid-auc:0.726948\n",
      "Multiple eval metrics have been passed: 'valid-auc' will be used for early stopping.\n",
      "\n",
      "Will train until valid-auc hasn't improved in 5 rounds.\n",
      "[50]\ttrain-auc:0.759003\tvalid-auc:0.746213\n",
      "Stopping. Best iteration:\n",
      "[52]\ttrain-auc:0.759488\tvalid-auc:0.746411\n",
      "\n",
      "The score for fold number 003\n",
      "[0]\ttrain-auc:0.731962\tvalid-auc:0.734916\n",
      "Multiple eval metrics have been passed: 'valid-auc' will be used for early stopping.\n",
      "\n",
      "Will train until valid-auc hasn't improved in 5 rounds.\n",
      "[50]\ttrain-auc:0.757045\tvalid-auc:0.750933\n",
      "Stopping. Best iteration:\n",
      "[67]\ttrain-auc:0.760559\tvalid-auc:0.752207\n",
      "\n"
     ]
    }
   ],
   "source": [
    "predictions=np.zeros(len(testdf))\n",
    "\n",
    "for i,(train_index, val_index) in enumerate(kfold.split(X,Y)):\n",
    "    train_X, val_X = X.iloc[train_index,:], X.iloc[val_index,:]\n",
    "    train_Y, val_Y = Y.iloc[train_index], Y.iloc[val_index]\n",
    "\n",
    "    print(\"The score for fold number {:03d}\".format(i))\n",
    "    # params configuration\n",
    "    params = { \n",
    "   \"objective\": \"binary:logistic\",\n",
    "   \"booster\": \"gbtree\",\n",
    "   \"eval_metric\": \"auc\",\n",
    "   \"eta\": 0.1, \n",
    "   \"min_child_weight\": 240,\n",
    "   \"subsample\": 0.75,\n",
    "   \"colsample_bytree\": 0.68,\n",
    "   \"max_depth\": 6,\n",
    "   \"seed\":99\n",
    "     }\n",
    "\n",
    "    d_train = xgb.DMatrix(train_X, train_Y)\n",
    "    d_valid = xgb.DMatrix(val_X, val_Y)\n",
    "    d_test = xgb.DMatrix(testdf)\n",
    "    \n",
    "    watchlist = [(d_train, 'train'), (d_valid, 'valid')]\n",
    "    model = xgb.train(params, d_train, 5000,  watchlist,  maximize=True, verbose_eval=50, early_stopping_rounds=5)\n",
    "                        \n",
    "    preds = model.predict(d_test,ntree_limit=model.best_ntree_limit)\n",
    "    predictions+=preds"
   ]
  },
  {
   "cell_type": "code",
   "execution_count": null,
   "metadata": {
    "colab": {},
    "colab_type": "code",
    "id": "Tzur2R3DqjxW"
   },
   "outputs": [],
   "source": [
    "predictions=predictions/4"
   ]
  },
  {
   "cell_type": "code",
   "execution_count": null,
   "metadata": {
    "colab": {},
    "colab_type": "code",
    "id": "iK1Ye_7quGxm"
   },
   "outputs": [],
   "source": [
    "submission=testdf"
   ]
  },
  {
   "cell_type": "code",
   "execution_count": null,
   "metadata": {
    "colab": {},
    "colab_type": "code",
    "id": "m5RoDoe2ud5L"
   },
   "outputs": [],
   "source": [
    "submission[\"PredictedProb\"]=predictions"
   ]
  },
  {
   "cell_type": "code",
   "execution_count": null,
   "metadata": {
    "colab": {
     "base_uri": "https://localhost:8080/",
     "height": 204
    },
    "colab_type": "code",
    "id": "vfaig_TbujZt",
    "outputId": "e1ff25a4-a723-4215-f51c-f09a832f1a3d"
   },
   "outputs": [
    {
     "data": {
      "text/html": [
       "<div>\n",
       "<style scoped>\n",
       "    .dataframe tbody tr th:only-of-type {\n",
       "        vertical-align: middle;\n",
       "    }\n",
       "\n",
       "    .dataframe tbody tr th {\n",
       "        vertical-align: top;\n",
       "    }\n",
       "\n",
       "    .dataframe thead th {\n",
       "        text-align: right;\n",
       "    }\n",
       "</style>\n",
       "<table border=\"1\" class=\"dataframe\">\n",
       "  <thead>\n",
       "    <tr style=\"text-align: right;\">\n",
       "      <th></th>\n",
       "      <th>ID</th>\n",
       "      <th>PredictedProb</th>\n",
       "    </tr>\n",
       "  </thead>\n",
       "  <tbody>\n",
       "    <tr>\n",
       "      <th>114321</th>\n",
       "      <td>0</td>\n",
       "      <td>0.301499</td>\n",
       "    </tr>\n",
       "    <tr>\n",
       "      <th>114322</th>\n",
       "      <td>1</td>\n",
       "      <td>0.845432</td>\n",
       "    </tr>\n",
       "    <tr>\n",
       "      <th>114323</th>\n",
       "      <td>2</td>\n",
       "      <td>0.847409</td>\n",
       "    </tr>\n",
       "    <tr>\n",
       "      <th>114324</th>\n",
       "      <td>7</td>\n",
       "      <td>0.621452</td>\n",
       "    </tr>\n",
       "    <tr>\n",
       "      <th>114325</th>\n",
       "      <td>10</td>\n",
       "      <td>0.748963</td>\n",
       "    </tr>\n",
       "  </tbody>\n",
       "</table>\n",
       "</div>"
      ],
      "text/plain": [
       "        ID  PredictedProb\n",
       "114321   0       0.301499\n",
       "114322   1       0.845432\n",
       "114323   2       0.847409\n",
       "114324   7       0.621452\n",
       "114325  10       0.748963"
      ]
     },
     "execution_count": 59,
     "metadata": {
      "tags": []
     },
     "output_type": "execute_result"
    }
   ],
   "source": [
    "submission=submission[[\"ID\",\"PredictedProb\"]]\n",
    "submission.head()"
   ]
  },
  {
   "cell_type": "code",
   "execution_count": null,
   "metadata": {
    "colab": {
     "base_uri": "https://localhost:8080/",
     "height": 17
    },
    "colab_type": "code",
    "id": "CEjAcueluris",
    "outputId": "15ef110c-0292-42e0-ecaf-81b12cf83b06"
   },
   "outputs": [
    {
     "data": {
      "application/javascript": [
       "\n",
       "    async function download(id, filename, size) {\n",
       "      if (!google.colab.kernel.accessAllowed) {\n",
       "        return;\n",
       "      }\n",
       "      const div = document.createElement('div');\n",
       "      const label = document.createElement('label');\n",
       "      label.textContent = `Downloading \"${filename}\": `;\n",
       "      div.appendChild(label);\n",
       "      const progress = document.createElement('progress');\n",
       "      progress.max = size;\n",
       "      div.appendChild(progress);\n",
       "      document.body.appendChild(div);\n",
       "\n",
       "      const buffers = [];\n",
       "      let downloaded = 0;\n",
       "\n",
       "      const channel = await google.colab.kernel.comms.open(id);\n",
       "      // Send a message to notify the kernel that we're ready.\n",
       "      channel.send({})\n",
       "\n",
       "      for await (const message of channel.messages) {\n",
       "        // Send a message to notify the kernel that we're ready.\n",
       "        channel.send({})\n",
       "        if (message.buffers) {\n",
       "          for (const buffer of message.buffers) {\n",
       "            buffers.push(buffer);\n",
       "            downloaded += buffer.byteLength;\n",
       "            progress.value = downloaded;\n",
       "          }\n",
       "        }\n",
       "      }\n",
       "      const blob = new Blob(buffers, {type: 'application/binary'});\n",
       "      const a = document.createElement('a');\n",
       "      a.href = window.URL.createObjectURL(blob);\n",
       "      a.download = filename;\n",
       "      div.appendChild(a);\n",
       "      a.click();\n",
       "      div.remove();\n",
       "    }\n",
       "  "
      ],
      "text/plain": [
       "<IPython.core.display.Javascript object>"
      ]
     },
     "metadata": {
      "tags": []
     },
     "output_type": "display_data"
    },
    {
     "data": {
      "application/javascript": [
       "download(\"download_e960a561-f7b3-41b4-a793-4ed0b30f6b73\", \"submission_df.csv\", 2909005)"
      ],
      "text/plain": [
       "<IPython.core.display.Javascript object>"
      ]
     },
     "metadata": {
      "tags": []
     },
     "output_type": "display_data"
    }
   ],
   "source": [
    "from google.colab import files\n",
    "\n",
    "submission.to_csv('submission_df.csv',index=False)\n",
    "files.download('submission_df.csv')"
   ]
  },
  {
   "cell_type": "code",
   "execution_count": null,
   "metadata": {
    "colab": {},
    "colab_type": "code",
    "id": "TjdCqUR4vD3J"
   },
   "outputs": [],
   "source": []
  }
 ],
 "metadata": {
  "colab": {
   "collapsed_sections": [],
   "name": "BNP_Paribas.ipynb",
   "provenance": [],
   "toc_visible": true
  },
  "kernelspec": {
   "display_name": "Python 3",
   "language": "python",
   "name": "python3"
  },
  "language_info": {
   "codemirror_mode": {
    "name": "ipython",
    "version": 3
   },
   "file_extension": ".py",
   "mimetype": "text/x-python",
   "name": "python",
   "nbconvert_exporter": "python",
   "pygments_lexer": "ipython3",
   "version": "3.7.4"
  }
 },
 "nbformat": 4,
 "nbformat_minor": 1
}
